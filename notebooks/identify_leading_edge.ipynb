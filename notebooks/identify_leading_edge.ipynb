{
 "cells": [
  {
   "cell_type": "code",
   "execution_count": 1,
   "id": "24695572-e042-434d-b2f2-108357be01e2",
   "metadata": {},
   "outputs": [],
   "source": [
    "import numpy as np\n",
    "from typing import Tuple, Optional"
   ]
  },
  {
   "cell_type": "code",
   "execution_count": 42,
   "id": "18921e91-faa5-4122-a4da-4d35122ff2d4",
   "metadata": {},
   "outputs": [],
   "source": [
    "def identify_leading_edge(waveform: np.ndarray, tau: float) -> Tuple[Optional[int], Optional[int]]:\n",
    "    \"\"\"\n",
    "    Identify the startgate and stopgate of a waveform.\n",
    "    From algo described here: https://climate.esa.int/sites/default/files/Sea_State_cci_ATBD_v1.1-signed_0.pdf\n",
    "\n",
    "    :param np.ndarray waveform: numpy array of waveform values\n",
    "    :param float tau: time spacing between consecutive gates in seconds\n",
    "    :return: Tuple containing:\n",
    "      - startgate: index of the start gate (Optional[int])\n",
    "      - stopgate: index of the stop gate (Optional[int])\n",
    "    :rtype: Tuple[Optional[int], Optional[int]]\n",
    "\n",
    "    \"\"\"\n",
    "    # The waveform is normalised with normalisation factor N, \n",
    "    # where N = 1.3 * median(waveform)\n",
    "    N: float = 1.3 * np.median(waveform)\n",
    "    normalized_waveform: np.ndarray = waveform / N\n",
    "\n",
    "    # The leading edge starts when the normalised waveform has a \n",
    "    # rise of 0.01 units compared to the previous gate (startgate)\n",
    "    startgate: int | None = None\n",
    "    for i in range(1, len(normalized_waveform)):\n",
    "        if normalized_waveform[i] - normalized_waveform[i-1] >= 0.01:\n",
    "            startgate = i\n",
    "            break\n",
    "\n",
    "    if startgate is None:\n",
    "        return None, None  # No valid startgate found\n",
    "\n",
    "    # At this point, the leading edge is considered valid if, for at least four gates \n",
    "    # after startgate, it does not decrease below 0.1 units (10% of the normalised power).\n",
    "    valid_leading_edge: bool = (\n",
    "        startgate + 4 < len(normalized_waveform) and\n",
    "        np.all(normalized_waveform[startgate:startgate + 5] >= 0.1)\n",
    "    )\n",
    "\n",
    "    if not valid_leading_edge:\n",
    "        return None, None  # Leading edge is not valid\n",
    "\n",
    "    # The end of the leading edge (stopgate) is fixed at the first gate \n",
    "    # in which the derivative changes sign (i.e. the signal start decreasing \n",
    "    # and the trailing edge begins), if the change of sign is kept \n",
    "    # for the following 3 gates.\n",
    "    stopgate: int | None = None\n",
    "    for i in range(startgate + 1, len(normalized_waveform) - 3):\n",
    "        # Calculate the derivative\n",
    "        derivative: float = normalized_waveform[i + 1] - normalized_waveform[i]\n",
    "        if derivative < 0:  # Start of decrease\n",
    "            # Check if the derivative stays negative for the next 3 gates\n",
    "            if (normalized_waveform[i + 2] - normalized_waveform[i + 1] < 0 and\n",
    "                normalized_waveform[i + 3] - normalized_waveform[i + 2] < 0):\n",
    "                stopgate = i\n",
    "                break\n",
    "\n",
    "    return startgate, stopgate"
   ]
  },
  {
   "cell_type": "code",
   "execution_count": 43,
   "id": "60c64a07-31ef-4afd-b595-e9901fce297d",
   "metadata": {},
   "outputs": [
    {
     "name": "stdout",
     "output_type": "stream",
     "text": [
      "Startgate: 4, Stopgate: 10\n"
     ]
    }
   ],
   "source": [
    "if __name__ == \"__main__\":\n",
    "    # Simulated waveform data\n",
    "    waveform: np.ndarray = np.array([0.0, 0.0, 0.0, 0.0001, 0.0015, 0.002, 0.004, 0.01, 0.02, 0.05, 0.15, 0.1, 0.08, 0.07, 0.03, 0.01, 0.0])\n",
    "    tau: float = 3.125e-9  # Time spacing in seconds\n",
    "\n",
    "    (startgate, stopgate) = identify_leading_edge(waveform, tau)\n",
    "\n",
    "    print(f\"Startgate: {startgate}, Stopgate: {stopgate}\")"
   ]
  }
 ],
 "metadata": {
  "kernelspec": {
   "display_name": "Python 3 (ipykernel)",
   "language": "python",
   "name": "python3"
  },
  "language_info": {
   "codemirror_mode": {
    "name": "ipython",
    "version": 3
   },
   "file_extension": ".py",
   "mimetype": "text/x-python",
   "name": "python",
   "nbconvert_exporter": "python",
   "pygments_lexer": "ipython3",
   "version": "3.12.4"
  }
 },
 "nbformat": 4,
 "nbformat_minor": 5
}
